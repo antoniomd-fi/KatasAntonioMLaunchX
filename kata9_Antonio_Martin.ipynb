{
 "cells": [
  {
   "cell_type": "markdown",
   "metadata": {},
   "source": [
    "## Ejercicio 1"
   ]
  },
  {
   "cell_type": "code",
   "execution_count": 2,
   "metadata": {},
   "outputs": [],
   "source": [
    "def informe(gas1,gas2, gas3):\n",
    "    avg= (gas1+ gas2 +gas3)/3\n",
    "    return f\"\"\"Informe de combustible:\n",
    "    Promedio total: {avg}\n",
    "    \"\"\"\n"
   ]
  },
  {
   "cell_type": "code",
   "execution_count": 3,
   "metadata": {},
   "outputs": [
    {
     "name": "stdout",
     "output_type": "stream",
     "text": [
      "Informe de combustible:\n",
      "    Promedio total: 60.833333333333336\n",
      "    \n"
     ]
    }
   ],
   "source": [
    "print (informe(50.5,70,62))"
   ]
  },
  {
   "cell_type": "code",
   "execution_count": 4,
   "metadata": {},
   "outputs": [],
   "source": [
    "def average (values):\n",
    "    suma=sum(values)\n",
    "    numeroElementos=len(values)\n",
    "    return (suma/numeroElementos)"
   ]
  },
  {
   "cell_type": "code",
   "execution_count": 5,
   "metadata": {},
   "outputs": [
    {
     "data": {
      "text/plain": [
       "60.833333333333336"
      ]
     },
     "execution_count": 5,
     "metadata": {},
     "output_type": "execute_result"
    }
   ],
   "source": [
    "average([50.5,70,62])"
   ]
  },
  {
   "cell_type": "code",
   "execution_count": 7,
   "metadata": {},
   "outputs": [
    {
     "name": "stdout",
     "output_type": "stream",
     "text": [
      "Informe de combustible:\n",
      "    Promedio total: 60.833333333333336\n",
      "    \n"
     ]
    }
   ],
   "source": [
    "def informe(gas1,gas2, gas3):\n",
    "    avg= (gas1+ gas2 +gas3)/3\n",
    "    return f\"\"\"Informe de combustible:\n",
    "    Promedio total: {average([gas1,gas2,gas3])}\n",
    "    \"\"\"\n",
    "\n",
    "print(informe(50.5,70,62))"
   ]
  },
  {
   "cell_type": "markdown",
   "metadata": {},
   "source": [
    "## Ejercicio 2"
   ]
  },
  {
   "cell_type": "code",
   "execution_count": 8,
   "metadata": {},
   "outputs": [
    {
     "name": "stdout",
     "output_type": "stream",
     "text": [
      "\n",
      "    Mission a: Luna\n",
      "    Tiempo total de viaje: 130 minutos\n",
      "    Total de combustible: 70000 galones\n",
      "    \n"
     ]
    }
   ],
   "source": [
    "def informeExtenso (tiempoPre,tiempoVuelo,destino,tanquePrincipal,TanqueReserva):\n",
    "    return f\"\"\"\n",
    "    Mission a: {destino}\n",
    "    Tiempo total de viaje: {tiempoPre+tiempoVuelo} minutos\n",
    "    Total de combustible: {tanquePrincipal+TanqueReserva} galones\n",
    "    \"\"\"\n",
    "\n",
    "print(informeExtenso(10,120,\"Luna\",50000,20000))"
   ]
  },
  {
   "cell_type": "code",
   "execution_count": 9,
   "metadata": {},
   "outputs": [
    {
     "name": "stdout",
     "output_type": "stream",
     "text": [
      "\n",
      "    Mision a: Luna\n",
      "    Tiempo total de viaje: 130 minutos\n",
      "    Total de combustible: 70000\n",
      "    \n"
     ]
    }
   ],
   "source": [
    "def informeDetallado (destino, *tiempoMinutos, **tanques):\n",
    "    return f\"\"\"\n",
    "    Mision a: {destino}\n",
    "    Tiempo total de viaje: {sum(tiempoMinutos)} minutos\n",
    "    Total de combustible: {sum(tanques.values())}\n",
    "    \"\"\"\n",
    "\n",
    "print(informeDetallado(\"Luna\", 10,120,principal=50000,reserva=20000))"
   ]
  },
  {
   "cell_type": "code",
   "execution_count": 16,
   "metadata": {},
   "outputs": [
    {
     "name": "stdout",
     "output_type": "stream",
     "text": [
      "\n",
      "    Mision a: Luna\n",
      "    Tiempo total de viaje: 130 minutos\n",
      "    Total de combustible: 70000\n",
      "    \ttanque principal = 50000 galones\n",
      "\ttanque reserva = 20000 galones\n",
      "\n"
     ]
    }
   ],
   "source": [
    "def informeDetallado (destino, *tiempoMinutos, **tanques):\n",
    "    reporte = f\"\"\"\n",
    "    Mision a: {destino}\n",
    "    Tiempo total de viaje: {sum(tiempoMinutos)} minutos\n",
    "    Total de combustible: {sum(tanques.values())}\n",
    "    \"\"\"\n",
    "    for tanque, galones in tanques.items():\n",
    "        reporte += f\"\\ttanque {tanque} = {galones} galones\\n\"\n",
    "    return reporte\n",
    "\n",
    "print(informeDetallado(\"Luna\", 10,120,principal=50000,reserva=20000))"
   ]
  }
 ],
 "metadata": {
  "interpreter": {
   "hash": "b3ba2566441a7c06988d0923437866b63cedc61552a5af99d1f4fb67d367b25f"
  },
  "kernelspec": {
   "display_name": "Python 3.8.8 ('base')",
   "language": "python",
   "name": "python3"
  },
  "language_info": {
   "codemirror_mode": {
    "name": "ipython",
    "version": 3
   },
   "file_extension": ".py",
   "mimetype": "text/x-python",
   "name": "python",
   "nbconvert_exporter": "python",
   "pygments_lexer": "ipython3",
   "version": "3.8.8"
  },
  "orig_nbformat": 4
 },
 "nbformat": 4,
 "nbformat_minor": 2
}

{
 "cells": [
  {
   "cell_type": "markdown",
   "metadata": {},
   "source": [
    "## Ejercicio - Escribir declaraciones if, else, y elif"
   ]
  },
  {
   "cell_type": "code",
   "execution_count": 5,
   "metadata": {},
   "outputs": [
    {
     "name": "stdout",
     "output_type": "stream",
     "text": [
      "!!PELIGRO, ASTEROIDE A: 49 km/s\n"
     ]
    }
   ],
   "source": [
    "asteroidVelocity=49\n",
    "\n",
    "if asteroidVelocity > 25:\n",
    "    print(\"¡¡¡PELIGRO, ASTEROIDE A: \"+ str(asteroidVelocity) + \" km/s!!!\")\n",
    "else:\n",
    "    print(\"NORMAL\")"
   ]
  },
  {
   "cell_type": "code",
   "execution_count": 7,
   "metadata": {},
   "outputs": [
    {
     "name": "stdout",
     "output_type": "stream",
     "text": [
      "ASTEROIDE DETECTADO, FAVOR DE BUSCAR EL RAYO DE LUZ\n",
      "Ningun rayo de luz visible\n"
     ]
    }
   ],
   "source": [
    "asteroidVelocity = 19\n",
    "\n",
    "if asteroidVelocity != 0:\n",
    "    print (\"ASTEROIDE DETECTADO, FAVOR DE BUSCAR EL RAYO DE LUZ\")\n",
    "    if asteroidVelocity >= 20:\n",
    "        print(\"¡¡¡PELIGRO, RAYO DE LUZ VISIBLE!!!\")\n",
    "    else:\n",
    "        print (\"Ningun rayo de luz visible\")\n",
    "else:\n",
    "    print (\"Ningun asteroide detectado\")"
   ]
  },
  {
   "cell_type": "markdown",
   "metadata": {},
   "source": [
    "## Ejercicio: Uso de operadores and y or"
   ]
  },
  {
   "cell_type": "code",
   "execution_count": 11,
   "metadata": {},
   "outputs": [
    {
     "name": "stdout",
     "output_type": "stream",
     "text": [
      "ASTEROIDE DETECTADO, FAVOR DE BUSCAR EL RAYO DE LUZ\n",
      "RAYO DE LUZ VISIBLE\n",
      "¡¡¡PELIGRO, ASTEROIDE A: 100 km/s!!!\n",
      "¡¡¡IMPACTO CON DAÑO GRAVE!!! EL DIAMETRO DEL ASTEROIDE ES: 26 METROS\n"
     ]
    }
   ],
   "source": [
    "asteroidSize = 26\n",
    "asteroidVelocity= 100\n",
    "\n",
    "if asteroidVelocity != 0:\n",
    "    print (\"ASTEROIDE DETECTADO, FAVOR DE BUSCAR EL RAYO DE LUZ\")\n",
    "    if asteroidVelocity >= 20:\n",
    "        print(\"RAYO DE LUZ VISIBLE\")\n",
    "        if asteroidVelocity > 25:\n",
    "            print(\"¡¡¡PELIGRO, ASTEROIDE A: \"+ str(asteroidVelocity) + \" km/s!!!\")\n",
    "            if asteroidSize > 25 and asteroidSize <1000:\n",
    "                print(\"¡¡¡IMPACTO CON DAÑO GRAVE!!! EL DIAMETRO DEL ASTEROIDE ES: \"+str(asteroidSize)+\" METROS\")\n",
    "            elif asteroidSize > 1000:\n",
    "                print(\"¡¡¡IMPACTO CATASTRÓFICO!!! ASTEROIDE DE DIAMETRO MAYOR A 1000 METROS\") \n",
    "            else:\n",
    "                print (\"Sin peligro, asteroide con diametro menor a 25 metros\")\n",
    "    else:   \n",
    "        print (\"Ningun rayo de luz visible\")\n",
    "else:\n",
    "    print (\"Ningun asteroide detectado\")"
   ]
  }
 ],
 "metadata": {
  "interpreter": {
   "hash": "b3ba2566441a7c06988d0923437866b63cedc61552a5af99d1f4fb67d367b25f"
  },
  "kernelspec": {
   "display_name": "Python 3.8.8 ('base')",
   "language": "python",
   "name": "python3"
  },
  "language_info": {
   "codemirror_mode": {
    "name": "ipython",
    "version": 3
   },
   "file_extension": ".py",
   "mimetype": "text/x-python",
   "name": "python",
   "nbconvert_exporter": "python",
   "pygments_lexer": "ipython3",
   "version": "3.8.8"
  },
  "orig_nbformat": 4
 },
 "nbformat": 4,
 "nbformat_minor": 2
}
